{
  "nbformat": 4,
  "nbformat_minor": 0,
  "metadata": {
    "colab": {
      "provenance": [],
      "toc_visible": true,
      "authorship_tag": "ABX9TyNwiGvixA/E6MlDRTTEf1/3",
      "include_colab_link": true
    },
    "kernelspec": {
      "name": "python3",
      "display_name": "Python 3"
    },
    "language_info": {
      "name": "python"
    }
  },
  "cells": [
    {
      "cell_type": "markdown",
      "metadata": {
        "id": "view-in-github",
        "colab_type": "text"
      },
      "source": [
        "<a href=\"https://colab.research.google.com/github/Tecindes/ChallengeONE__/blob/main/TelecomX_parte2_latam.ipynb\" target=\"_parent\"><img src=\"https://colab.research.google.com/assets/colab-badge.svg\" alt=\"Open In Colab\"/></a>"
      ]
    },
    {
      "cell_type": "markdown",
      "source": [
        "# Preparación de los datos"
      ],
      "metadata": {
        "id": "ys0PhYr-Vk_X"
      }
    },
    {
      "cell_type": "markdown",
      "source": [
        "## Extracción del archivo tratado"
      ],
      "metadata": {
        "id": "U1Rwb-Q-VyX2"
      }
    },
    {
      "cell_type": "code",
      "execution_count": 80,
      "metadata": {
        "id": "sfah2oud02B-",
        "colab": {
          "base_uri": "https://localhost:8080/",
          "height": 343
        },
        "outputId": "71edcc6c-c4f1-4050-baf7-5f4bd6aa398c"
      },
      "outputs": [
        {
          "output_type": "execute_result",
          "data": {
            "text/plain": [
              "      customerID Churn customer.gender  customer.SeniorCitizen  \\\n",
              "1447  2137-DQMEV    No            Male                       0   \n",
              "515   0749-IRGQE    No          Female                       1   \n",
              "5137  7233-PAHHL    No            Male                       0   \n",
              "2448  3508-CFVZL    No          Female                       0   \n",
              "1051  1536-HBSWP    No          Female                       0   \n",
              "\n",
              "     customer.Partner customer.Dependents  customer.tenure phone.PhoneService  \\\n",
              "1447              Yes                 Yes               68                 No   \n",
              "515               Yes                  No               13                 No   \n",
              "5137              Yes                 Yes               66                Yes   \n",
              "2448               No                  No               71                Yes   \n",
              "1051               No                  No                1                Yes   \n",
              "\n",
              "     phone.MultipleLines internet.InternetService  ... internet.TechSupport  \\\n",
              "1447    No phone service                      DSL  ...                   No   \n",
              "515     No phone service                      DSL  ...                   No   \n",
              "5137                 Yes                      DSL  ...                  Yes   \n",
              "2448                 Yes              Fiber optic  ...                  Yes   \n",
              "1051                  No                      DSL  ...                  Yes   \n",
              "\n",
              "     internet.StreamingTV internet.StreamingMovies account.Contract  \\\n",
              "1447                  Yes                       No         One year   \n",
              "515                   Yes                      Yes   Month-to-month   \n",
              "5137                  Yes                      Yes         Two year   \n",
              "2448                  Yes                      Yes         Two year   \n",
              "1051                   No                       No   Month-to-month   \n",
              "\n",
              "     account.PaperlessBilling account.PaymentMethod account.Charges.Monthly  \\\n",
              "1447                       No          Mailed check                    44.8   \n",
              "515                        No      Electronic check                    45.3   \n",
              "5137                      Yes          Mailed check                    84.0   \n",
              "2448                       No          Mailed check                   111.3   \n",
              "1051                      Yes      Electronic check                    49.9   \n",
              "\n",
              "     account.Charges.Total SeniorLabel  ChurnLabel  \n",
              "1447               2983.65          No           0  \n",
              "515                 528.45          Sí           0  \n",
              "5137               5714.25          No           0  \n",
              "2448               7985.90          No           0  \n",
              "1051                 49.90          No           0  \n",
              "\n",
              "[5 rows x 23 columns]"
            ],
            "text/html": [
              "\n",
              "  <div id=\"df-2eb24e9c-dd2b-4036-89d1-cb78af7e001f\" class=\"colab-df-container\">\n",
              "    <div>\n",
              "<style scoped>\n",
              "    .dataframe tbody tr th:only-of-type {\n",
              "        vertical-align: middle;\n",
              "    }\n",
              "\n",
              "    .dataframe tbody tr th {\n",
              "        vertical-align: top;\n",
              "    }\n",
              "\n",
              "    .dataframe thead th {\n",
              "        text-align: right;\n",
              "    }\n",
              "</style>\n",
              "<table border=\"1\" class=\"dataframe\">\n",
              "  <thead>\n",
              "    <tr style=\"text-align: right;\">\n",
              "      <th></th>\n",
              "      <th>customerID</th>\n",
              "      <th>Churn</th>\n",
              "      <th>customer.gender</th>\n",
              "      <th>customer.SeniorCitizen</th>\n",
              "      <th>customer.Partner</th>\n",
              "      <th>customer.Dependents</th>\n",
              "      <th>customer.tenure</th>\n",
              "      <th>phone.PhoneService</th>\n",
              "      <th>phone.MultipleLines</th>\n",
              "      <th>internet.InternetService</th>\n",
              "      <th>...</th>\n",
              "      <th>internet.TechSupport</th>\n",
              "      <th>internet.StreamingTV</th>\n",
              "      <th>internet.StreamingMovies</th>\n",
              "      <th>account.Contract</th>\n",
              "      <th>account.PaperlessBilling</th>\n",
              "      <th>account.PaymentMethod</th>\n",
              "      <th>account.Charges.Monthly</th>\n",
              "      <th>account.Charges.Total</th>\n",
              "      <th>SeniorLabel</th>\n",
              "      <th>ChurnLabel</th>\n",
              "    </tr>\n",
              "  </thead>\n",
              "  <tbody>\n",
              "    <tr>\n",
              "      <th>1447</th>\n",
              "      <td>2137-DQMEV</td>\n",
              "      <td>No</td>\n",
              "      <td>Male</td>\n",
              "      <td>0</td>\n",
              "      <td>Yes</td>\n",
              "      <td>Yes</td>\n",
              "      <td>68</td>\n",
              "      <td>No</td>\n",
              "      <td>No phone service</td>\n",
              "      <td>DSL</td>\n",
              "      <td>...</td>\n",
              "      <td>No</td>\n",
              "      <td>Yes</td>\n",
              "      <td>No</td>\n",
              "      <td>One year</td>\n",
              "      <td>No</td>\n",
              "      <td>Mailed check</td>\n",
              "      <td>44.8</td>\n",
              "      <td>2983.65</td>\n",
              "      <td>No</td>\n",
              "      <td>0</td>\n",
              "    </tr>\n",
              "    <tr>\n",
              "      <th>515</th>\n",
              "      <td>0749-IRGQE</td>\n",
              "      <td>No</td>\n",
              "      <td>Female</td>\n",
              "      <td>1</td>\n",
              "      <td>Yes</td>\n",
              "      <td>No</td>\n",
              "      <td>13</td>\n",
              "      <td>No</td>\n",
              "      <td>No phone service</td>\n",
              "      <td>DSL</td>\n",
              "      <td>...</td>\n",
              "      <td>No</td>\n",
              "      <td>Yes</td>\n",
              "      <td>Yes</td>\n",
              "      <td>Month-to-month</td>\n",
              "      <td>No</td>\n",
              "      <td>Electronic check</td>\n",
              "      <td>45.3</td>\n",
              "      <td>528.45</td>\n",
              "      <td>Sí</td>\n",
              "      <td>0</td>\n",
              "    </tr>\n",
              "    <tr>\n",
              "      <th>5137</th>\n",
              "      <td>7233-PAHHL</td>\n",
              "      <td>No</td>\n",
              "      <td>Male</td>\n",
              "      <td>0</td>\n",
              "      <td>Yes</td>\n",
              "      <td>Yes</td>\n",
              "      <td>66</td>\n",
              "      <td>Yes</td>\n",
              "      <td>Yes</td>\n",
              "      <td>DSL</td>\n",
              "      <td>...</td>\n",
              "      <td>Yes</td>\n",
              "      <td>Yes</td>\n",
              "      <td>Yes</td>\n",
              "      <td>Two year</td>\n",
              "      <td>Yes</td>\n",
              "      <td>Mailed check</td>\n",
              "      <td>84.0</td>\n",
              "      <td>5714.25</td>\n",
              "      <td>No</td>\n",
              "      <td>0</td>\n",
              "    </tr>\n",
              "    <tr>\n",
              "      <th>2448</th>\n",
              "      <td>3508-CFVZL</td>\n",
              "      <td>No</td>\n",
              "      <td>Female</td>\n",
              "      <td>0</td>\n",
              "      <td>No</td>\n",
              "      <td>No</td>\n",
              "      <td>71</td>\n",
              "      <td>Yes</td>\n",
              "      <td>Yes</td>\n",
              "      <td>Fiber optic</td>\n",
              "      <td>...</td>\n",
              "      <td>Yes</td>\n",
              "      <td>Yes</td>\n",
              "      <td>Yes</td>\n",
              "      <td>Two year</td>\n",
              "      <td>No</td>\n",
              "      <td>Mailed check</td>\n",
              "      <td>111.3</td>\n",
              "      <td>7985.90</td>\n",
              "      <td>No</td>\n",
              "      <td>0</td>\n",
              "    </tr>\n",
              "    <tr>\n",
              "      <th>1051</th>\n",
              "      <td>1536-HBSWP</td>\n",
              "      <td>No</td>\n",
              "      <td>Female</td>\n",
              "      <td>0</td>\n",
              "      <td>No</td>\n",
              "      <td>No</td>\n",
              "      <td>1</td>\n",
              "      <td>Yes</td>\n",
              "      <td>No</td>\n",
              "      <td>DSL</td>\n",
              "      <td>...</td>\n",
              "      <td>Yes</td>\n",
              "      <td>No</td>\n",
              "      <td>No</td>\n",
              "      <td>Month-to-month</td>\n",
              "      <td>Yes</td>\n",
              "      <td>Electronic check</td>\n",
              "      <td>49.9</td>\n",
              "      <td>49.90</td>\n",
              "      <td>No</td>\n",
              "      <td>0</td>\n",
              "    </tr>\n",
              "  </tbody>\n",
              "</table>\n",
              "<p>5 rows × 23 columns</p>\n",
              "</div>\n",
              "    <div class=\"colab-df-buttons\">\n",
              "\n",
              "  <div class=\"colab-df-container\">\n",
              "    <button class=\"colab-df-convert\" onclick=\"convertToInteractive('df-2eb24e9c-dd2b-4036-89d1-cb78af7e001f')\"\n",
              "            title=\"Convert this dataframe to an interactive table.\"\n",
              "            style=\"display:none;\">\n",
              "\n",
              "  <svg xmlns=\"http://www.w3.org/2000/svg\" height=\"24px\" viewBox=\"0 -960 960 960\">\n",
              "    <path d=\"M120-120v-720h720v720H120Zm60-500h600v-160H180v160Zm220 220h160v-160H400v160Zm0 220h160v-160H400v160ZM180-400h160v-160H180v160Zm440 0h160v-160H620v160ZM180-180h160v-160H180v160Zm440 0h160v-160H620v160Z\"/>\n",
              "  </svg>\n",
              "    </button>\n",
              "\n",
              "  <style>\n",
              "    .colab-df-container {\n",
              "      display:flex;\n",
              "      gap: 12px;\n",
              "    }\n",
              "\n",
              "    .colab-df-convert {\n",
              "      background-color: #E8F0FE;\n",
              "      border: none;\n",
              "      border-radius: 50%;\n",
              "      cursor: pointer;\n",
              "      display: none;\n",
              "      fill: #1967D2;\n",
              "      height: 32px;\n",
              "      padding: 0 0 0 0;\n",
              "      width: 32px;\n",
              "    }\n",
              "\n",
              "    .colab-df-convert:hover {\n",
              "      background-color: #E2EBFA;\n",
              "      box-shadow: 0px 1px 2px rgba(60, 64, 67, 0.3), 0px 1px 3px 1px rgba(60, 64, 67, 0.15);\n",
              "      fill: #174EA6;\n",
              "    }\n",
              "\n",
              "    .colab-df-buttons div {\n",
              "      margin-bottom: 4px;\n",
              "    }\n",
              "\n",
              "    [theme=dark] .colab-df-convert {\n",
              "      background-color: #3B4455;\n",
              "      fill: #D2E3FC;\n",
              "    }\n",
              "\n",
              "    [theme=dark] .colab-df-convert:hover {\n",
              "      background-color: #434B5C;\n",
              "      box-shadow: 0px 1px 3px 1px rgba(0, 0, 0, 0.15);\n",
              "      filter: drop-shadow(0px 1px 2px rgba(0, 0, 0, 0.3));\n",
              "      fill: #FFFFFF;\n",
              "    }\n",
              "  </style>\n",
              "\n",
              "    <script>\n",
              "      const buttonEl =\n",
              "        document.querySelector('#df-2eb24e9c-dd2b-4036-89d1-cb78af7e001f button.colab-df-convert');\n",
              "      buttonEl.style.display =\n",
              "        google.colab.kernel.accessAllowed ? 'block' : 'none';\n",
              "\n",
              "      async function convertToInteractive(key) {\n",
              "        const element = document.querySelector('#df-2eb24e9c-dd2b-4036-89d1-cb78af7e001f');\n",
              "        const dataTable =\n",
              "          await google.colab.kernel.invokeFunction('convertToInteractive',\n",
              "                                                    [key], {});\n",
              "        if (!dataTable) return;\n",
              "\n",
              "        const docLinkHtml = 'Like what you see? Visit the ' +\n",
              "          '<a target=\"_blank\" href=https://colab.research.google.com/notebooks/data_table.ipynb>data table notebook</a>'\n",
              "          + ' to learn more about interactive tables.';\n",
              "        element.innerHTML = '';\n",
              "        dataTable['output_type'] = 'display_data';\n",
              "        await google.colab.output.renderOutput(dataTable, element);\n",
              "        const docLink = document.createElement('div');\n",
              "        docLink.innerHTML = docLinkHtml;\n",
              "        element.appendChild(docLink);\n",
              "      }\n",
              "    </script>\n",
              "  </div>\n",
              "\n",
              "\n",
              "    <div id=\"df-f503ebd3-f39b-4bcf-9e1a-05509389169a\">\n",
              "      <button class=\"colab-df-quickchart\" onclick=\"quickchart('df-f503ebd3-f39b-4bcf-9e1a-05509389169a')\"\n",
              "                title=\"Suggest charts\"\n",
              "                style=\"display:none;\">\n",
              "\n",
              "<svg xmlns=\"http://www.w3.org/2000/svg\" height=\"24px\"viewBox=\"0 0 24 24\"\n",
              "     width=\"24px\">\n",
              "    <g>\n",
              "        <path d=\"M19 3H5c-1.1 0-2 .9-2 2v14c0 1.1.9 2 2 2h14c1.1 0 2-.9 2-2V5c0-1.1-.9-2-2-2zM9 17H7v-7h2v7zm4 0h-2V7h2v10zm4 0h-2v-4h2v4z\"/>\n",
              "    </g>\n",
              "</svg>\n",
              "      </button>\n",
              "\n",
              "<style>\n",
              "  .colab-df-quickchart {\n",
              "      --bg-color: #E8F0FE;\n",
              "      --fill-color: #1967D2;\n",
              "      --hover-bg-color: #E2EBFA;\n",
              "      --hover-fill-color: #174EA6;\n",
              "      --disabled-fill-color: #AAA;\n",
              "      --disabled-bg-color: #DDD;\n",
              "  }\n",
              "\n",
              "  [theme=dark] .colab-df-quickchart {\n",
              "      --bg-color: #3B4455;\n",
              "      --fill-color: #D2E3FC;\n",
              "      --hover-bg-color: #434B5C;\n",
              "      --hover-fill-color: #FFFFFF;\n",
              "      --disabled-bg-color: #3B4455;\n",
              "      --disabled-fill-color: #666;\n",
              "  }\n",
              "\n",
              "  .colab-df-quickchart {\n",
              "    background-color: var(--bg-color);\n",
              "    border: none;\n",
              "    border-radius: 50%;\n",
              "    cursor: pointer;\n",
              "    display: none;\n",
              "    fill: var(--fill-color);\n",
              "    height: 32px;\n",
              "    padding: 0;\n",
              "    width: 32px;\n",
              "  }\n",
              "\n",
              "  .colab-df-quickchart:hover {\n",
              "    background-color: var(--hover-bg-color);\n",
              "    box-shadow: 0 1px 2px rgba(60, 64, 67, 0.3), 0 1px 3px 1px rgba(60, 64, 67, 0.15);\n",
              "    fill: var(--button-hover-fill-color);\n",
              "  }\n",
              "\n",
              "  .colab-df-quickchart-complete:disabled,\n",
              "  .colab-df-quickchart-complete:disabled:hover {\n",
              "    background-color: var(--disabled-bg-color);\n",
              "    fill: var(--disabled-fill-color);\n",
              "    box-shadow: none;\n",
              "  }\n",
              "\n",
              "  .colab-df-spinner {\n",
              "    border: 2px solid var(--fill-color);\n",
              "    border-color: transparent;\n",
              "    border-bottom-color: var(--fill-color);\n",
              "    animation:\n",
              "      spin 1s steps(1) infinite;\n",
              "  }\n",
              "\n",
              "  @keyframes spin {\n",
              "    0% {\n",
              "      border-color: transparent;\n",
              "      border-bottom-color: var(--fill-color);\n",
              "      border-left-color: var(--fill-color);\n",
              "    }\n",
              "    20% {\n",
              "      border-color: transparent;\n",
              "      border-left-color: var(--fill-color);\n",
              "      border-top-color: var(--fill-color);\n",
              "    }\n",
              "    30% {\n",
              "      border-color: transparent;\n",
              "      border-left-color: var(--fill-color);\n",
              "      border-top-color: var(--fill-color);\n",
              "      border-right-color: var(--fill-color);\n",
              "    }\n",
              "    40% {\n",
              "      border-color: transparent;\n",
              "      border-right-color: var(--fill-color);\n",
              "      border-top-color: var(--fill-color);\n",
              "    }\n",
              "    60% {\n",
              "      border-color: transparent;\n",
              "      border-right-color: var(--fill-color);\n",
              "    }\n",
              "    80% {\n",
              "      border-color: transparent;\n",
              "      border-right-color: var(--fill-color);\n",
              "      border-bottom-color: var(--fill-color);\n",
              "    }\n",
              "    90% {\n",
              "      border-color: transparent;\n",
              "      border-bottom-color: var(--fill-color);\n",
              "    }\n",
              "  }\n",
              "</style>\n",
              "\n",
              "      <script>\n",
              "        async function quickchart(key) {\n",
              "          const quickchartButtonEl =\n",
              "            document.querySelector('#' + key + ' button');\n",
              "          quickchartButtonEl.disabled = true;  // To prevent multiple clicks.\n",
              "          quickchartButtonEl.classList.add('colab-df-spinner');\n",
              "          try {\n",
              "            const charts = await google.colab.kernel.invokeFunction(\n",
              "                'suggestCharts', [key], {});\n",
              "          } catch (error) {\n",
              "            console.error('Error during call to suggestCharts:', error);\n",
              "          }\n",
              "          quickchartButtonEl.classList.remove('colab-df-spinner');\n",
              "          quickchartButtonEl.classList.add('colab-df-quickchart-complete');\n",
              "        }\n",
              "        (() => {\n",
              "          let quickchartButtonEl =\n",
              "            document.querySelector('#df-f503ebd3-f39b-4bcf-9e1a-05509389169a button');\n",
              "          quickchartButtonEl.style.display =\n",
              "            google.colab.kernel.accessAllowed ? 'block' : 'none';\n",
              "        })();\n",
              "      </script>\n",
              "    </div>\n",
              "\n",
              "    </div>\n",
              "  </div>\n"
            ],
            "application/vnd.google.colaboratory.intrinsic+json": {
              "type": "dataframe"
            }
          },
          "metadata": {},
          "execution_count": 80
        }
      ],
      "source": [
        "import pandas as pd\n",
        "# URL raw del archivo CSV (ajusta con tu repo y path)\n",
        "url_csv = 'https://raw.githubusercontent.com/Tecindes/ChallengeONE__/refs/heads/main/reporte.csv'\n",
        "\n",
        "\n",
        "# Cargar el CSV directamente como DataFrame\n",
        "df = pd.read_csv(url_csv)\n",
        "\n",
        "# Vista previa\n",
        "df.sample(5)"
      ]
    },
    {
      "cell_type": "markdown",
      "source": [
        "## Eliminación de columnas irrelevantes"
      ],
      "metadata": {
        "id": "huuTYT7jWJqz"
      }
    },
    {
      "cell_type": "code",
      "source": [
        "df.columns\n"
      ],
      "metadata": {
        "colab": {
          "base_uri": "https://localhost:8080/"
        },
        "id": "9arz1CO7Dfuf",
        "outputId": "c61e2a26-48e4-4570-9310-d3ce677fe56d"
      },
      "execution_count": 90,
      "outputs": [
        {
          "output_type": "execute_result",
          "data": {
            "text/plain": [
              "Index(['Churn', 'customer.gender', 'customer.Partner', 'customer.Dependents',\n",
              "       'customer.tenure', 'phone.PhoneService', 'phone.MultipleLines',\n",
              "       'internet.InternetService', 'internet.OnlineSecurity',\n",
              "       'internet.OnlineBackup', 'internet.DeviceProtection',\n",
              "       'internet.TechSupport', 'internet.StreamingTV',\n",
              "       'internet.StreamingMovies', 'account.Contract',\n",
              "       'account.PaperlessBilling', 'account.PaymentMethod',\n",
              "       'account.Charges.Monthly', 'account.Charges.Total',\n",
              "       'customer.SeniorCitizen'],\n",
              "      dtype='object')"
            ]
          },
          "metadata": {},
          "execution_count": 90
        }
      ]
    },
    {
      "cell_type": "code",
      "source": [
        "df.drop(['customerID','customer.SeniorCitizen','ChurnLabel'], axis=1, inplace=True)\n"
      ],
      "metadata": {
        "id": "65HH28pbEHz0"
      },
      "execution_count": 83,
      "outputs": []
    },
    {
      "cell_type": "code",
      "source": [
        "df.rename({'SeniorLabel':'customer.SeniorCitizen'}, axis=1, inplace=True)\n"
      ],
      "metadata": {
        "id": "cMFZlr0wqcFk"
      },
      "execution_count": 89,
      "outputs": []
    },
    {
      "cell_type": "markdown",
      "source": [
        "## Encoding"
      ],
      "metadata": {
        "id": "RSs7bmpqWpx1"
      }
    },
    {
      "cell_type": "markdown",
      "source": [
        "### Clasificación de variables"
      ],
      "metadata": {
        "id": "GSPHCiibXTgW"
      }
    },
    {
      "cell_type": "code",
      "source": [
        "def clasificar_variable(col):\n",
        "    if pd.api.types.is_numeric_dtype(col):\n",
        "        return 'Cuantitativa continua' if col.nunique() > 10 else 'Cuantitativa discreta'\n",
        "    elif col.nunique() == 2:\n",
        "        return 'Cualitativa binaria'\n",
        "    elif pd.api.types.is_object_dtype(col):\n",
        "        return 'Cualitativa nominal u ordinal'\n",
        "    else:\n",
        "        return 'Tipo desconocido'\n",
        "\n",
        "def generar_reporte(df, nombre_archivo='reporte_variables.md'):\n",
        "    with open(nombre_archivo, 'w', encoding='utf-8') as f:\n",
        "        f.write(f'# Clasificación de Variables\\n\\n')\n",
        "        for col in df.columns:\n",
        "            tipo = clasificar_variable(df[col])\n",
        "            f.write(f\"- **{col}**: {tipo}\\n\")"
      ],
      "metadata": {
        "id": "OF2-px3cQpya"
      },
      "execution_count": 91,
      "outputs": []
    },
    {
      "cell_type": "code",
      "source": [
        "clasificacion = df.apply(clasificar_variable)\n",
        "clasificacion"
      ],
      "metadata": {
        "colab": {
          "base_uri": "https://localhost:8080/",
          "height": 711
        },
        "id": "W7aAkNL0QptM",
        "outputId": "f00cc1c4-fc03-4aa4-97ec-c62000461563"
      },
      "execution_count": 92,
      "outputs": [
        {
          "output_type": "execute_result",
          "data": {
            "text/plain": [
              "Churn                                  Cualitativa binaria\n",
              "customer.gender                        Cualitativa binaria\n",
              "customer.Partner                       Cualitativa binaria\n",
              "customer.Dependents                    Cualitativa binaria\n",
              "customer.tenure                      Cuantitativa continua\n",
              "phone.PhoneService                     Cualitativa binaria\n",
              "phone.MultipleLines          Cualitativa nominal u ordinal\n",
              "internet.InternetService     Cualitativa nominal u ordinal\n",
              "internet.OnlineSecurity      Cualitativa nominal u ordinal\n",
              "internet.OnlineBackup        Cualitativa nominal u ordinal\n",
              "internet.DeviceProtection    Cualitativa nominal u ordinal\n",
              "internet.TechSupport         Cualitativa nominal u ordinal\n",
              "internet.StreamingTV         Cualitativa nominal u ordinal\n",
              "internet.StreamingMovies     Cualitativa nominal u ordinal\n",
              "account.Contract             Cualitativa nominal u ordinal\n",
              "account.PaperlessBilling               Cualitativa binaria\n",
              "account.PaymentMethod        Cualitativa nominal u ordinal\n",
              "account.Charges.Monthly              Cuantitativa continua\n",
              "account.Charges.Total                Cuantitativa continua\n",
              "customer.SeniorCitizen                 Cualitativa binaria\n",
              "dtype: object"
            ],
            "text/html": [
              "<div>\n",
              "<style scoped>\n",
              "    .dataframe tbody tr th:only-of-type {\n",
              "        vertical-align: middle;\n",
              "    }\n",
              "\n",
              "    .dataframe tbody tr th {\n",
              "        vertical-align: top;\n",
              "    }\n",
              "\n",
              "    .dataframe thead th {\n",
              "        text-align: right;\n",
              "    }\n",
              "</style>\n",
              "<table border=\"1\" class=\"dataframe\">\n",
              "  <thead>\n",
              "    <tr style=\"text-align: right;\">\n",
              "      <th></th>\n",
              "      <th>0</th>\n",
              "    </tr>\n",
              "  </thead>\n",
              "  <tbody>\n",
              "    <tr>\n",
              "      <th>Churn</th>\n",
              "      <td>Cualitativa binaria</td>\n",
              "    </tr>\n",
              "    <tr>\n",
              "      <th>customer.gender</th>\n",
              "      <td>Cualitativa binaria</td>\n",
              "    </tr>\n",
              "    <tr>\n",
              "      <th>customer.Partner</th>\n",
              "      <td>Cualitativa binaria</td>\n",
              "    </tr>\n",
              "    <tr>\n",
              "      <th>customer.Dependents</th>\n",
              "      <td>Cualitativa binaria</td>\n",
              "    </tr>\n",
              "    <tr>\n",
              "      <th>customer.tenure</th>\n",
              "      <td>Cuantitativa continua</td>\n",
              "    </tr>\n",
              "    <tr>\n",
              "      <th>phone.PhoneService</th>\n",
              "      <td>Cualitativa binaria</td>\n",
              "    </tr>\n",
              "    <tr>\n",
              "      <th>phone.MultipleLines</th>\n",
              "      <td>Cualitativa nominal u ordinal</td>\n",
              "    </tr>\n",
              "    <tr>\n",
              "      <th>internet.InternetService</th>\n",
              "      <td>Cualitativa nominal u ordinal</td>\n",
              "    </tr>\n",
              "    <tr>\n",
              "      <th>internet.OnlineSecurity</th>\n",
              "      <td>Cualitativa nominal u ordinal</td>\n",
              "    </tr>\n",
              "    <tr>\n",
              "      <th>internet.OnlineBackup</th>\n",
              "      <td>Cualitativa nominal u ordinal</td>\n",
              "    </tr>\n",
              "    <tr>\n",
              "      <th>internet.DeviceProtection</th>\n",
              "      <td>Cualitativa nominal u ordinal</td>\n",
              "    </tr>\n",
              "    <tr>\n",
              "      <th>internet.TechSupport</th>\n",
              "      <td>Cualitativa nominal u ordinal</td>\n",
              "    </tr>\n",
              "    <tr>\n",
              "      <th>internet.StreamingTV</th>\n",
              "      <td>Cualitativa nominal u ordinal</td>\n",
              "    </tr>\n",
              "    <tr>\n",
              "      <th>internet.StreamingMovies</th>\n",
              "      <td>Cualitativa nominal u ordinal</td>\n",
              "    </tr>\n",
              "    <tr>\n",
              "      <th>account.Contract</th>\n",
              "      <td>Cualitativa nominal u ordinal</td>\n",
              "    </tr>\n",
              "    <tr>\n",
              "      <th>account.PaperlessBilling</th>\n",
              "      <td>Cualitativa binaria</td>\n",
              "    </tr>\n",
              "    <tr>\n",
              "      <th>account.PaymentMethod</th>\n",
              "      <td>Cualitativa nominal u ordinal</td>\n",
              "    </tr>\n",
              "    <tr>\n",
              "      <th>account.Charges.Monthly</th>\n",
              "      <td>Cuantitativa continua</td>\n",
              "    </tr>\n",
              "    <tr>\n",
              "      <th>account.Charges.Total</th>\n",
              "      <td>Cuantitativa continua</td>\n",
              "    </tr>\n",
              "    <tr>\n",
              "      <th>customer.SeniorCitizen</th>\n",
              "      <td>Cualitativa binaria</td>\n",
              "    </tr>\n",
              "  </tbody>\n",
              "</table>\n",
              "</div><br><label><b>dtype:</b> object</label>"
            ]
          },
          "metadata": {},
          "execution_count": 92
        }
      ]
    },
    {
      "cell_type": "code",
      "source": [
        "def clasificar_simple_variable(col):\n",
        "    if pd.api.types.is_numeric_dtype(col):\n",
        "        return 'Cuantitativa'\n",
        "    elif col.nunique() == 2:\n",
        "        return 'Cualitativa'\n",
        "    elif pd.api.types.is_object_dtype(col):\n",
        "        return 'Cualitativa'\n",
        "    else:\n",
        "        return 'Desconocido'"
      ],
      "metadata": {
        "id": "xZWl5O4cg5sB"
      },
      "execution_count": 93,
      "outputs": []
    },
    {
      "cell_type": "code",
      "source": [
        "Cualitativa=[]\n",
        "Cuantitativa=[]\n",
        "\n",
        "\n",
        "for col in df.columns:\n",
        "    tipo = clasificar_simple_variable(df[col])\n",
        "    if tipo == 'Cuantitativa':\n",
        "        Cuantitativa.append(col)\n",
        "    elif tipo == 'Cualitativa':\n",
        "        Cualitativa.append(col)\n",
        "\n",
        "print(Cualitativa)\n",
        "print(Cuantitativa)\n"
      ],
      "metadata": {
        "colab": {
          "base_uri": "https://localhost:8080/"
        },
        "id": "IX7g_l4lQp1v",
        "outputId": "b02767cb-58f1-4406-b7d1-75edaf6b28c4"
      },
      "execution_count": 94,
      "outputs": [
        {
          "output_type": "stream",
          "name": "stdout",
          "text": [
            "['Churn', 'customer.gender', 'customer.Partner', 'customer.Dependents', 'phone.PhoneService', 'phone.MultipleLines', 'internet.InternetService', 'internet.OnlineSecurity', 'internet.OnlineBackup', 'internet.DeviceProtection', 'internet.TechSupport', 'internet.StreamingTV', 'internet.StreamingMovies', 'account.Contract', 'account.PaperlessBilling', 'account.PaymentMethod', 'customer.SeniorCitizen']\n",
            "['customer.tenure', 'account.Charges.Monthly', 'account.Charges.Total']\n"
          ]
        }
      ]
    },
    {
      "cell_type": "markdown",
      "source": [
        "### Tabla de frecuencia para las variables cualitativas"
      ],
      "metadata": {
        "id": "yloY7Ll0XX4E"
      }
    },
    {
      "cell_type": "code",
      "source": [
        "\n",
        "for col in Cualitativa:\n",
        "  print(f'Columna :{col}, Dato : {sorted(df[col].unique())}'\t)"
      ],
      "metadata": {
        "colab": {
          "base_uri": "https://localhost:8080/"
        },
        "id": "tQc-e1mhhAeQ",
        "outputId": "e0dd3973-bf78-49b8-8116-e0ae11d733fa"
      },
      "execution_count": 95,
      "outputs": [
        {
          "output_type": "stream",
          "name": "stdout",
          "text": [
            "Columna :Churn, Dato : ['No', 'Yes']\n",
            "Columna :customer.gender, Dato : ['Female', 'Male']\n",
            "Columna :customer.Partner, Dato : ['No', 'Yes']\n",
            "Columna :customer.Dependents, Dato : ['No', 'Yes']\n",
            "Columna :phone.PhoneService, Dato : ['No', 'Yes']\n",
            "Columna :phone.MultipleLines, Dato : ['No', 'No phone service', 'Yes']\n",
            "Columna :internet.InternetService, Dato : ['DSL', 'Fiber optic', 'No']\n",
            "Columna :internet.OnlineSecurity, Dato : ['No', 'No internet service', 'Yes']\n",
            "Columna :internet.OnlineBackup, Dato : ['No', 'No internet service', 'Yes']\n",
            "Columna :internet.DeviceProtection, Dato : ['No', 'No internet service', 'Yes']\n",
            "Columna :internet.TechSupport, Dato : ['No', 'No internet service', 'Yes']\n",
            "Columna :internet.StreamingTV, Dato : ['No', 'No internet service', 'Yes']\n",
            "Columna :internet.StreamingMovies, Dato : ['No', 'No internet service', 'Yes']\n",
            "Columna :account.Contract, Dato : ['Month-to-month', 'One year', 'Two year']\n",
            "Columna :account.PaperlessBilling, Dato : ['No', 'Yes']\n",
            "Columna :account.PaymentMethod, Dato : ['Bank transfer (automatic)', 'Credit card (automatic)', 'Electronic check', 'Mailed check']\n",
            "Columna :customer.SeniorCitizen, Dato : ['No', 'Sí']\n"
          ]
        }
      ]
    },
    {
      "cell_type": "code",
      "source": [
        "dis_frec_cualitativa_dict = {}\n",
        "for col in Cualitativa:\n",
        "    frecuencia = df[col].value_counts()\n",
        "    porcentaje = df[col].value_counts(normalize=True).round(4) * 100\n",
        "    dis_frec_cualitativa_dict[col] = pd.DataFrame({\n",
        "        'Frecuencia': frecuencia,\n",
        "        'Porcentaje %': porcentaje\n",
        "    })\n"
      ],
      "metadata": {
        "id": "8xXGFStOQp7d"
      },
      "execution_count": 96,
      "outputs": []
    },
    {
      "cell_type": "code",
      "source": [
        "for col in Cualitativa:\n",
        " print(f'{dis_frec_cualitativa_dict[col]} \\n')\n"
      ],
      "metadata": {
        "colab": {
          "base_uri": "https://localhost:8080/"
        },
        "collapsed": true,
        "id": "g0XJLHOFQqEr",
        "outputId": "1933b1d6-9e0d-4062-f655-23a411c2269b"
      },
      "execution_count": 97,
      "outputs": [
        {
          "output_type": "stream",
          "name": "stdout",
          "text": [
            "       Frecuencia  Porcentaje %\n",
            "Churn                          \n",
            "No           5174         73.46\n",
            "Yes          1869         26.54 \n",
            "\n",
            "                 Frecuencia  Porcentaje %\n",
            "customer.gender                          \n",
            "Male                   3555         50.48\n",
            "Female                 3488         49.52 \n",
            "\n",
            "                  Frecuencia  Porcentaje %\n",
            "customer.Partner                          \n",
            "No                      3641          51.7\n",
            "Yes                     3402          48.3 \n",
            "\n",
            "                     Frecuencia  Porcentaje %\n",
            "customer.Dependents                          \n",
            "No                         4933         70.04\n",
            "Yes                        2110         29.96 \n",
            "\n",
            "                    Frecuencia  Porcentaje %\n",
            "phone.PhoneService                          \n",
            "Yes                       6361         90.32\n",
            "No                         682          9.68 \n",
            "\n",
            "                     Frecuencia  Porcentaje %\n",
            "phone.MultipleLines                          \n",
            "No                         3390         48.13\n",
            "Yes                        2971         42.18\n",
            "No phone service            682          9.68 \n",
            "\n",
            "                          Frecuencia  Porcentaje %\n",
            "internet.InternetService                          \n",
            "Fiber optic                     3096         43.96\n",
            "DSL                             2421         34.37\n",
            "No                              1526         21.67 \n",
            "\n",
            "                         Frecuencia  Porcentaje %\n",
            "internet.OnlineSecurity                          \n",
            "No                             3498         49.67\n",
            "Yes                            2019         28.67\n",
            "No internet service            1526         21.67 \n",
            "\n",
            "                       Frecuencia  Porcentaje %\n",
            "internet.OnlineBackup                          \n",
            "No                           3088         43.84\n",
            "Yes                          2429         34.49\n",
            "No internet service          1526         21.67 \n",
            "\n",
            "                           Frecuencia  Porcentaje %\n",
            "internet.DeviceProtection                          \n",
            "No                               3095         43.94\n",
            "Yes                              2422         34.39\n",
            "No internet service              1526         21.67 \n",
            "\n",
            "                      Frecuencia  Porcentaje %\n",
            "internet.TechSupport                          \n",
            "No                          3473         49.31\n",
            "Yes                         2044         29.02\n",
            "No internet service         1526         21.67 \n",
            "\n",
            "                      Frecuencia  Porcentaje %\n",
            "internet.StreamingTV                          \n",
            "No                          2810         39.90\n",
            "Yes                         2707         38.44\n",
            "No internet service         1526         21.67 \n",
            "\n",
            "                          Frecuencia  Porcentaje %\n",
            "internet.StreamingMovies                          \n",
            "No                              2785         39.54\n",
            "Yes                             2732         38.79\n",
            "No internet service             1526         21.67 \n",
            "\n",
            "                  Frecuencia  Porcentaje %\n",
            "account.Contract                          \n",
            "Month-to-month          3875         55.02\n",
            "Two year                1695         24.07\n",
            "One year                1473         20.91 \n",
            "\n",
            "                          Frecuencia  Porcentaje %\n",
            "account.PaperlessBilling                          \n",
            "Yes                             4171         59.22\n",
            "No                              2872         40.78 \n",
            "\n",
            "                           Frecuencia  Porcentaje %\n",
            "account.PaymentMethod                              \n",
            "Electronic check                 2365         33.58\n",
            "Mailed check                     1612         22.89\n",
            "Bank transfer (automatic)        1544         21.92\n",
            "Credit card (automatic)          1522         21.61 \n",
            "\n",
            "                        Frecuencia  Porcentaje %\n",
            "customer.SeniorCitizen                          \n",
            "No                            5901         83.79\n",
            "Sí                            1142         16.21 \n",
            "\n"
          ]
        }
      ]
    },
    {
      "cell_type": "code",
      "source": [
        "dis_frec_cualitativa_Churn_dict = {}\n",
        "for col in Cualitativa:\n",
        "    Cross = pd.crosstab(df['Churn'],df[col])\n",
        "    dis_frec_cualitativa_Churn_dict[col] = Cross # Store the crosstab DataFrame directly"
      ],
      "metadata": {
        "id": "vu70P0fEwZtm"
      },
      "execution_count": 98,
      "outputs": []
    },
    {
      "cell_type": "code",
      "source": [
        "for col in Cualitativa:\n",
        " print(f'{dis_frec_cualitativa_Churn_dict[col]} \\n')"
      ],
      "metadata": {
        "colab": {
          "base_uri": "https://localhost:8080/"
        },
        "id": "90xYcIuaytlo",
        "outputId": "1553a888-1333-47a6-9b38-9b64cf6dc86c"
      },
      "execution_count": 99,
      "outputs": [
        {
          "output_type": "stream",
          "name": "stdout",
          "text": [
            "Churn    No   Yes\n",
            "Churn            \n",
            "No     5174     0\n",
            "Yes       0  1869 \n",
            "\n",
            "customer.gender  Female  Male\n",
            "Churn                        \n",
            "No                 2549  2625\n",
            "Yes                 939   930 \n",
            "\n",
            "customer.Partner    No   Yes\n",
            "Churn                       \n",
            "No                2441  2733\n",
            "Yes               1200   669 \n",
            "\n",
            "customer.Dependents    No   Yes\n",
            "Churn                          \n",
            "No                   3390  1784\n",
            "Yes                  1543   326 \n",
            "\n",
            "phone.PhoneService   No   Yes\n",
            "Churn                        \n",
            "No                  512  4662\n",
            "Yes                 170  1699 \n",
            "\n",
            "phone.MultipleLines    No  No phone service   Yes\n",
            "Churn                                            \n",
            "No                   2541               512  2121\n",
            "Yes                   849               170   850 \n",
            "\n",
            "internet.InternetService   DSL  Fiber optic    No\n",
            "Churn                                            \n",
            "No                        1962         1799  1413\n",
            "Yes                        459         1297   113 \n",
            "\n",
            "internet.OnlineSecurity    No  No internet service   Yes\n",
            "Churn                                                   \n",
            "No                       2037                 1413  1724\n",
            "Yes                      1461                  113   295 \n",
            "\n",
            "internet.OnlineBackup    No  No internet service   Yes\n",
            "Churn                                                 \n",
            "No                     1855                 1413  1906\n",
            "Yes                    1233                  113   523 \n",
            "\n",
            "internet.DeviceProtection    No  No internet service   Yes\n",
            "Churn                                                     \n",
            "No                         1884                 1413  1877\n",
            "Yes                        1211                  113   545 \n",
            "\n",
            "internet.TechSupport    No  No internet service   Yes\n",
            "Churn                                                \n",
            "No                    2027                 1413  1734\n",
            "Yes                   1446                  113   310 \n",
            "\n",
            "internet.StreamingTV    No  No internet service   Yes\n",
            "Churn                                                \n",
            "No                    1868                 1413  1893\n",
            "Yes                    942                  113   814 \n",
            "\n",
            "internet.StreamingMovies    No  No internet service   Yes\n",
            "Churn                                                    \n",
            "No                        1847                 1413  1914\n",
            "Yes                        938                  113   818 \n",
            "\n",
            "account.Contract  Month-to-month  One year  Two year\n",
            "Churn                                               \n",
            "No                          2220      1307      1647\n",
            "Yes                         1655       166        48 \n",
            "\n",
            "account.PaperlessBilling    No   Yes\n",
            "Churn                               \n",
            "No                        2403  2771\n",
            "Yes                        469  1400 \n",
            "\n",
            "account.PaymentMethod  Bank transfer (automatic)  Credit card (automatic)  \\\n",
            "Churn                                                                       \n",
            "No                                          1286                     1290   \n",
            "Yes                                          258                      232   \n",
            "\n",
            "account.PaymentMethod  Electronic check  Mailed check  \n",
            "Churn                                                  \n",
            "No                                 1294          1304  \n",
            "Yes                                1071           308   \n",
            "\n",
            "customer.SeniorCitizen    No   Sí\n",
            "Churn                            \n",
            "No                      4508  666\n",
            "Yes                     1393  476 \n",
            "\n"
          ]
        }
      ]
    },
    {
      "cell_type": "markdown",
      "source": [
        "### Tabla de frecuencias para las variables cuantitativas"
      ],
      "metadata": {
        "id": "C8rmT_ejdWTj"
      }
    },
    {
      "cell_type": "code",
      "source": [
        "for col in Cuantitativa:\n",
        "  print(f'Columna: {col}, Unicos: {df[col].unique()}'\t)\n",
        "  print(f'Columna: {col}, Valores:{df[col].value_counts()}\\n')"
      ],
      "metadata": {
        "colab": {
          "base_uri": "https://localhost:8080/"
        },
        "id": "PYyKmdFgzbxF",
        "outputId": "235641df-a8e6-492a-f955-a56d1e82546e"
      },
      "execution_count": 100,
      "outputs": [
        {
          "output_type": "stream",
          "name": "stdout",
          "text": [
            "Columna: customer.tenure, Unicos: [ 9  4 13  3 71 63  7 65 54 72  5 56 34  1 45 50 23 55 26 69 37 49 66 67\n",
            " 20 43 59 12 27  2 25 29 14 35 64 39 40 11  6 30 70 57 58 16 32 33 10 21\n",
            " 61 15 44 22 24 19 47 62 46 52  8 60 48 28 41 53 68 31 36 17 18 51 38 42\n",
            "  0]\n",
            "Columna: customer.tenure, Valores:customer.tenure\n",
            "1     613\n",
            "72    362\n",
            "2     238\n",
            "3     200\n",
            "4     176\n",
            "     ... \n",
            "28     57\n",
            "39     56\n",
            "44     51\n",
            "36     50\n",
            "0      11\n",
            "Name: count, Length: 73, dtype: int64\n",
            "\n",
            "Columna: account.Charges.Monthly, Unicos: [65.6  59.9  73.9  ... 91.75 68.8  67.85]\n",
            "Columna: account.Charges.Monthly, Valores:account.Charges.Monthly\n",
            "20.05     61\n",
            "19.85     45\n",
            "19.95     44\n",
            "19.90     44\n",
            "19.70     43\n",
            "          ..\n",
            "113.45     1\n",
            "117.50     1\n",
            "116.15     1\n",
            "62.55      1\n",
            "116.20     1\n",
            "Name: count, Length: 1585, dtype: int64\n",
            "\n",
            "Columna: account.Charges.Total, Unicos: [ 593.3   542.4   280.85 ...  742.9  4627.65 3707.6 ]\n",
            "Columna: account.Charges.Total, Valores:account.Charges.Total\n",
            "20.20      11\n",
            "0.00       11\n",
            "19.75       9\n",
            "19.90       8\n",
            "19.65       8\n",
            "           ..\n",
            "829.55      1\n",
            "625.65      1\n",
            "462.80      1\n",
            "251.25      1\n",
            "3121.45     1\n",
            "Name: count, Length: 6531, dtype: int64\n",
            "\n"
          ]
        }
      ]
    },
    {
      "cell_type": "code",
      "source": [
        "for col in Cuantitativa:\n",
        "  print(f'Columna: {col}, Mínimo: {df[col].min()}'\t)\n",
        "  print(f'Columna: {col}, Máximo: {df[col].max()}')"
      ],
      "metadata": {
        "colab": {
          "base_uri": "https://localhost:8080/"
        },
        "id": "sATKddCGzbjh",
        "outputId": "663b1c74-d4bb-46a7-c962-5a26333387e1"
      },
      "execution_count": 74,
      "outputs": [
        {
          "output_type": "stream",
          "name": "stdout",
          "text": [
            "Columna: customer.tenure, Mínimo: 0\n",
            "Columna: customer.tenure, Máximo: 72\n",
            "Columna: account.Charges.Monthly, Mínimo: 18.25\n",
            "Columna: account.Charges.Monthly, Máximo: 118.75\n",
            "Columna: account.Charges.Total, Mínimo: 0.0\n",
            "Columna: account.Charges.Total, Máximo: 8684.8\n"
          ]
        }
      ]
    },
    {
      "cell_type": "code",
      "source": [
        "import math\n",
        "#n = len(df[col])  # Número total de datos individuales\n",
        "#k = round(1 + math.log2(n))            # Regla de Sturges\n",
        "\n",
        "import numpy as np\n",
        "n=df.shape[0]\n",
        "k=round(1+(10/3)*np.log10(n))\n",
        "\n",
        "cuantitativa_dict = {}\n",
        "for col in Cuantitativa:\n",
        "\n",
        "  min=df[col].min()\n",
        "  max=df[col].max()\n",
        "  rango= max-min\n",
        "  amplitud = math.ceil(rango / k)  # Redondeamos para cubrir el máximo\n",
        "  labels = list(string.ascii_uppercase)\n",
        "  print(f'Observaciones: {n}, Mínimo: {min}, Máximo: {max}, Amplitud: {amplitud}, Clases: {k}')\n",
        "  inicio=min\n",
        "  intervalos=[]\n",
        "  etiquetas=[]\n",
        "  intervalos.append(min)\n",
        "  for i in range(k):\n",
        "    fin = inicio + amplitud - 1  # Ajuste para cerrar el intervalo correctamente\n",
        "    cuantitativa_dict[col] = fin\n",
        "    print(labels[i], inicio,fin,i)\n",
        "    inicio = fin + 1\n",
        "    intervalos.append(fin)\n",
        "    etiquetas.append(labels[i])\n",
        "  cuantitativa_dict[col] = (intervalos,etiquetas[::-1])\n",
        "\n"
      ],
      "metadata": {
        "colab": {
          "base_uri": "https://localhost:8080/",
          "height": 211
        },
        "id": "m62U41Gozb0g",
        "outputId": "deaf60cc-48ec-4b79-dc74-077fc9d99813"
      },
      "execution_count": 75,
      "outputs": [
        {
          "output_type": "error",
          "ename": "NameError",
          "evalue": "name 'string' is not defined",
          "traceback": [
            "\u001b[0;31m---------------------------------------------------------------------------\u001b[0m",
            "\u001b[0;31mNameError\u001b[0m                                 Traceback (most recent call last)",
            "\u001b[0;32m/tmp/ipython-input-2366520742.py\u001b[0m in \u001b[0;36m<cell line: 0>\u001b[0;34m()\u001b[0m\n\u001b[1;32m     14\u001b[0m   \u001b[0mrango\u001b[0m\u001b[0;34m=\u001b[0m \u001b[0mmax\u001b[0m\u001b[0;34m-\u001b[0m\u001b[0mmin\u001b[0m\u001b[0;34m\u001b[0m\u001b[0;34m\u001b[0m\u001b[0m\n\u001b[1;32m     15\u001b[0m   \u001b[0mamplitud\u001b[0m \u001b[0;34m=\u001b[0m \u001b[0mmath\u001b[0m\u001b[0;34m.\u001b[0m\u001b[0mceil\u001b[0m\u001b[0;34m(\u001b[0m\u001b[0mrango\u001b[0m \u001b[0;34m/\u001b[0m \u001b[0mk\u001b[0m\u001b[0;34m)\u001b[0m  \u001b[0;31m# Redondeamos para cubrir el máximo\u001b[0m\u001b[0;34m\u001b[0m\u001b[0;34m\u001b[0m\u001b[0m\n\u001b[0;32m---> 16\u001b[0;31m   \u001b[0mlabels\u001b[0m \u001b[0;34m=\u001b[0m \u001b[0mlist\u001b[0m\u001b[0;34m(\u001b[0m\u001b[0mstring\u001b[0m\u001b[0;34m.\u001b[0m\u001b[0mascii_uppercase\u001b[0m\u001b[0;34m)\u001b[0m\u001b[0;34m\u001b[0m\u001b[0;34m\u001b[0m\u001b[0m\n\u001b[0m\u001b[1;32m     17\u001b[0m   \u001b[0mprint\u001b[0m\u001b[0;34m(\u001b[0m\u001b[0;34mf'Observaciones: {n}, Mínimo: {min}, Máximo: {max}, Amplitud: {amplitud}, Clases: {k}'\u001b[0m\u001b[0;34m)\u001b[0m\u001b[0;34m\u001b[0m\u001b[0;34m\u001b[0m\u001b[0m\n\u001b[1;32m     18\u001b[0m   \u001b[0minicio\u001b[0m\u001b[0;34m=\u001b[0m\u001b[0mmin\u001b[0m\u001b[0;34m\u001b[0m\u001b[0;34m\u001b[0m\u001b[0m\n",
            "\u001b[0;31mNameError\u001b[0m: name 'string' is not defined"
          ]
        }
      ]
    },
    {
      "cell_type": "code",
      "source": [
        "cuantitativa_dict\n"
      ],
      "metadata": {
        "id": "D4Ej7wlXlbAP"
      },
      "execution_count": null,
      "outputs": []
    },
    {
      "cell_type": "code",
      "source": [
        "dis_frec_cuantitativa_dict={}\n",
        "for col in Cuantitativa:\n",
        "  frec = pd.value_counts(pd.cut(x=df[col],\n",
        "                                       bins=cuantitativa_dict[col][0],\n",
        "                                       labels=cuantitativa_dict[col][1],\n",
        "                                       include_lowest=True))\n",
        "  porc = pd.value_counts(pd.cut(x=df[col],\n",
        "                                       bins=cuantitativa_dict[col][0],\n",
        "                                       labels=cuantitativa_dict[col][1],\n",
        "                                       include_lowest=True),normalize=True).round(4) * 100\n",
        "  dis_frec_cuantitativa_dict[col] = pd.DataFrame({\n",
        "        'Frecuencia': frec,\n",
        "        'Porcentaje %': porc\n",
        "    })"
      ],
      "metadata": {
        "id": "Et3L0vb5u8Xx"
      },
      "execution_count": null,
      "outputs": []
    },
    {
      "cell_type": "code",
      "source": [
        "dis_frec_cuantitativa_dict['customer.tenure'].sort_index(ascending=False)"
      ],
      "metadata": {
        "id": "8wtHP4e7u8a_"
      },
      "execution_count": null,
      "outputs": []
    },
    {
      "cell_type": "code",
      "source": [
        "import math\n",
        "#n = len(df[col])  # Número total de datos individuales\n",
        "#k = round(1 + math.log2(n))            # Regla de Sturges\n",
        "\n",
        "import numpy as np\n",
        "n=df.shape[0]\n",
        "k=round(1+(10/3)*np.log10(n))\n",
        "dis_frec_cuantitativa_dict_sturges={}\n",
        "for col in Cuantitativa:\n",
        "  frec = pd.value_counts(pd.cut(x=df[col],\n",
        "                                       bins=k,\n",
        "                                       include_lowest=True))\n",
        "  porc = pd.value_counts(pd.cut(x=df[col],\n",
        "                                       bins=k,\n",
        "                                       include_lowest=True),normalize=True).round(4) * 100\n",
        "  dis_frec_cuantitativa_dict_sturges[col] = pd.DataFrame({\n",
        "        'Frecuencia': frec,\n",
        "        'Porcentaje %': porc\n",
        "    })\n",
        "\n"
      ],
      "metadata": {
        "id": "B12iBkxzu8eG"
      },
      "execution_count": null,
      "outputs": []
    },
    {
      "cell_type": "code",
      "source": [
        "dis_frec_cuantitativa_dict_sturges['customer.tenure'].sort_index(ascending=False)"
      ],
      "metadata": {
        "id": "s0c63LRVu8hU"
      },
      "execution_count": null,
      "outputs": []
    },
    {
      "cell_type": "code",
      "source": [
        "dis_frec_cuantitativa_dict_sturges"
      ],
      "metadata": {
        "id": "z6RvKgRW_uay"
      },
      "execution_count": null,
      "outputs": []
    },
    {
      "cell_type": "code",
      "source": [
        "import seaborn as sns"
      ],
      "metadata": {
        "id": "riIVjzKNu8nW"
      },
      "execution_count": null,
      "outputs": []
    },
    {
      "cell_type": "code",
      "source": [
        "for col in Cuantitativa:\n",
        " ax = sns.displot(data=df, x=col, kde=True)\n",
        " ax.fig.set_size_inches(12,6)\n",
        " ax.fig.suptitle(f'Distribución de {col}', fontsize=18)\n",
        " #ax.fig.set_xlabel(col, fontsize=14)\n",
        " ax"
      ],
      "metadata": {
        "id": "DDb9wixEu8qN"
      },
      "execution_count": null,
      "outputs": []
    },
    {
      "cell_type": "code",
      "source": [
        "ax = sns.displot(data=df, x='customer.tenure', kde=False)\n",
        "ax.fig.set_size_inches(12,6)\n",
        "ax.fig.suptitle('Distribución de tenure', fontsize=18)\n",
        "ax.set_xlabel('Tenure', fontsize=14)"
      ],
      "metadata": {
        "id": "SWgXRLQpD1S8"
      },
      "execution_count": null,
      "outputs": []
    },
    {
      "cell_type": "code",
      "source": [
        "\n"
      ],
      "metadata": {
        "id": "a_r8HJqTwxH2"
      },
      "execution_count": null,
      "outputs": []
    },
    {
      "cell_type": "code",
      "source": [],
      "metadata": {
        "id": "Dt1J-d0gwxQe"
      },
      "execution_count": null,
      "outputs": []
    },
    {
      "cell_type": "code",
      "source": [
        "import pandas as pd\n",
        "\n",
        "# Carga del CSV desde GitHub\n",
        "url = 'https://raw.githubusercontent.com/Tecindes/ChallengeONE__/refs/heads/main/reporte.csv'\n",
        "df = pd.read_csv(url)\n",
        "\n",
        "# Vista general y revisión de nulos\n",
        "print(df.info())\n",
        "print(df.isnull().sum())"
      ],
      "metadata": {
        "id": "1McEoqVOIKO6"
      },
      "execution_count": null,
      "outputs": []
    },
    {
      "cell_type": "code",
      "source": [
        "df.describe().to_markdown(\"resumen_datos.md\")"
      ],
      "metadata": {
        "id": "IW0xDRKoIKVD"
      },
      "execution_count": null,
      "outputs": []
    },
    {
      "cell_type": "code",
      "source": [
        "# One-Hot Encoding (ideal si no hay demasiadas categorías)\n",
        "df_encoded = pd.get_dummies(df, drop_first=True)"
      ],
      "metadata": {
        "id": "sEnHW014IKYS"
      },
      "execution_count": null,
      "outputs": []
    },
    {
      "cell_type": "code",
      "source": [
        "df_encoded"
      ],
      "metadata": {
        "id": "QC5OMzh7IKbZ"
      },
      "execution_count": null,
      "outputs": []
    }
  ]
}